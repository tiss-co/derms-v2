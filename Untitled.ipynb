{
 "cells": [
  {
   "cell_type": "code",
   "execution_count": 2,
   "id": "ff2e2500-0e4f-4d52-b71c-25393df93ce9",
   "metadata": {},
   "outputs": [],
   "source": [
    "from backend.modules.derms import PCSBattery"
   ]
  },
  {
   "cell_type": "code",
   "execution_count": 35,
   "id": "5643eb77-8d22-4b53-8b07-7af3aff1ccd3",
   "metadata": {},
   "outputs": [],
   "source": [
    "from backend.api.common import get_loads"
   ]
  },
  {
   "cell_type": "code",
   "execution_count": 37,
   "id": "9c40090d-3bbb-4af4-861d-64fa488f6695",
   "metadata": {},
   "outputs": [],
   "source": [
    "from backend.configs import TIMEZONE\n",
    "from backend.utils import tznow"
   ]
  },
  {
   "cell_type": "code",
   "execution_count": 39,
   "id": "0286ae88-08cf-467a-a71d-cd7966e6444c",
   "metadata": {},
   "outputs": [],
   "source": [
    "from backend.models import Activation, Battery, Load, Program\n",
    "\n",
    "from backend.serializers"
   ]
  },
  {
   "cell_type": "code",
   "execution_count": null,
   "id": "ad87a01e-b7f9-4ccd-ac24-2c4d09292492",
   "metadata": {},
   "outputs": [],
   "source": [
    "comp_id = 123\n",
    "\n",
    "load_consumption = get_loads(tznow(TIMEZONE).date(), comp_id=comp_id)\n",
    "load_values = [item[\"value\"] for item in load_consumption]"
   ]
  },
  {
   "cell_type": "code",
   "execution_count": null,
   "id": "c18be59b-f902-4cde-a20e-5e09977f93f8",
   "metadata": {},
   "outputs": [],
   "source": [
    "program_activation_obj = (\n",
    "    session.query(Program, Activation)\n",
    "    .filter(Program.id == Activation.program_id)\n",
    "    .filter(Program.battery_id == battery_id, Activation.date == tznow(TIMEZONE).date())\n",
    "    .all()\n",
    ")"
   ]
  },
  {
   "cell_type": "code",
   "execution_count": null,
   "id": "e24820c4-1a8d-45cc-a73e-47d37cd7655c",
   "metadata": {},
   "outputs": [],
   "source": [
    "response = [\n",
    "    {\n",
    "        **ActivationSchema().dump(item.Activation),\n",
    "        **ProgramSchema().dump(item.Program),\n",
    "    }\n",
    "    for item in res\n",
    "]"
   ]
  },
  {
   "cell_type": "code",
   "execution_count": null,
   "id": "17c26743-4696-487d-b4c0-bab31188e8e7",
   "metadata": {},
   "outputs": [],
   "source": []
  },
  {
   "cell_type": "code",
   "execution_count": 29,
   "id": "fffa4c77-1d84-4147-b88f-9db88ee039ed",
   "metadata": {},
   "outputs": [],
   "source": [
    "load = {\n",
    "    1: 320,\n",
    "    2: 310,\n",
    "    3: 430,\n",
    "    4: 370,\n",
    "    5: 420,\n",
    "    6: 430,\n",
    "    7: 310,\n",
    "    8: 310,\n",
    "    9: 270,\n",
    "    10: 350,\n",
    "    11: 240,\n",
    "    12: 510,\n",
    "    13: 510,\n",
    "    14: 220,\n",
    "    15: 500,\n",
    "    16: 420,\n",
    "    17: 470,\n",
    "    18: 195,\n",
    "    19: 610,\n",
    "    20: 605,\n",
    "    21: 580,\n",
    "    22: 570,\n",
    "    23: 355,\n",
    "    24: 330,\n",
    "}"
   ]
  },
  {
   "cell_type": "code",
   "execution_count": 30,
   "id": "7d09f537-cc91-48c6-b642-3fdd8f962b9e",
   "metadata": {},
   "outputs": [],
   "source": [
    "battery_features = {\n",
    "    \"soc_max\": 1000,\n",
    "    \"soc_available\": 1000,\n",
    "    \"soc_min_coef\": 0.1,\n",
    "    \"p_max\": 500,\n",
    "    \"p_charge_max\": 120,\n",
    "    \"feeder_max\": 600,\n",
    "    \"charging_margin\": 160,\n",
    "    \"first_chargingـtimes_st\": 1,\n",
    "    \"first_chargingـtimes_et\": 10,\n",
    "    \"second_chargingـtimes_st\": 23,\n",
    "    \"second_chargingـtimes_et\": 24,\n",
    "}"
   ]
  },
  {
   "cell_type": "code",
   "execution_count": 31,
   "id": "07c951f7-c8ba-44f6-86a5-7fde1800033b",
   "metadata": {},
   "outputs": [],
   "source": [
    "programs = [\n",
    "    {\n",
    "        \"name\": \"GA\",\n",
    "        \"start\": 15,\n",
    "        \"end\": 16,\n",
    "        \"activator\": False,\n",
    "        \"coef\": 3,\n",
    "    },\n",
    "    {\n",
    "        \"name\": \"DR\",\n",
    "        \"start\": 13,\n",
    "        \"end\": 15,\n",
    "        \"activator\": True,\n",
    "        \"coef\": 2,\n",
    "    },\n",
    "    {\n",
    "        \"name\": \"HOEP\",\n",
    "        \"start\": 17,\n",
    "        \"end\": 19,\n",
    "        \"activator\": True,\n",
    "        \"coef\": 1,\n",
    "    },\n",
    "]"
   ]
  },
  {
   "cell_type": "code",
   "execution_count": 32,
   "id": "53973221-660d-40e3-86bd-66f572ed1718",
   "metadata": {},
   "outputs": [],
   "source": [
    "pcs_battery = PCSBattery(\n",
    "    load=load, battery_features=battery_features, programs=programs\n",
    ")"
   ]
  },
  {
   "cell_type": "code",
   "execution_count": 33,
   "id": "36d2efeb-0339-488f-85e0-c9b63835a462",
   "metadata": {},
   "outputs": [],
   "source": [
    "pcs_battery.calculate_pcs_battery_consumption()"
   ]
  },
  {
   "cell_type": "code",
   "execution_count": 34,
   "id": "bf77497a-5f7e-4df8-b1db-a5655116f850",
   "metadata": {},
   "outputs": [
    {
     "data": {
      "text/plain": [
       "[0.0,\n",
       " 0.0,\n",
       " 0.0,\n",
       " 0.0,\n",
       " 0.0,\n",
       " 0.0,\n",
       " 0.0,\n",
       " 0.0,\n",
       " 0.0,\n",
       " 0.0,\n",
       " 0.0,\n",
       " 0.0,\n",
       " 0.0,\n",
       " 0.0,\n",
       " 0.0,\n",
       " 0.0,\n",
       " 0.0,\n",
       " 195.0,\n",
       " 500.0,\n",
       " 0.0,\n",
       " 0.0,\n",
       " 0.0,\n",
       " 0.0,\n",
       " 0.0]"
      ]
     },
     "execution_count": 34,
     "metadata": {},
     "output_type": "execute_result"
    }
   ],
   "source": [
    "list(pcs_battery.model.Pbdch.get_values().values())"
   ]
  },
  {
   "cell_type": "code",
   "execution_count": 25,
   "id": "e5e3721d-a939-4569-9d0a-bd5bf24bc6a2",
   "metadata": {},
   "outputs": [
    {
     "data": {
      "text/plain": [
       "{1: 0.0,\n",
       " 2: 0.0,\n",
       " 3: 0.0,\n",
       " 4: 0.0,\n",
       " 5: 0.0,\n",
       " 6: 0.0,\n",
       " 7: 0.0,\n",
       " 8: 0.0,\n",
       " 9: 0.0,\n",
       " 10: 0.0,\n",
       " 11: 0.0,\n",
       " 12: 0.0,\n",
       " 13: 0.0,\n",
       " 14: 0.0,\n",
       " 15: 0.0,\n",
       " 16: 0.0,\n",
       " 17: 0.0,\n",
       " 18: 0.0,\n",
       " 19: 0.0,\n",
       " 20: 0.0,\n",
       " 21: 0.0,\n",
       " 22: 0.0,\n",
       " 23: 120.0,\n",
       " 24: 120.0}"
      ]
     },
     "execution_count": 25,
     "metadata": {},
     "output_type": "execute_result"
    }
   ],
   "source": [
    "pcs_battery.model.Pbch.get_values()"
   ]
  },
  {
   "cell_type": "code",
   "execution_count": 7,
   "id": "a6b85083-5c53-4f72-b0aa-644e519614b1",
   "metadata": {},
   "outputs": [
    {
     "data": {
      "text/plain": [
       "{1: 1000.0,\n",
       " 2: 1000.0,\n",
       " 3: 1000.0,\n",
       " 4: 1000.0,\n",
       " 5: 1000.0,\n",
       " 6: 1000.0,\n",
       " 7: 1000.0,\n",
       " 8: 1000.0,\n",
       " 9: 1000.0,\n",
       " 10: 1000.0,\n",
       " 11: 1000.0,\n",
       " 12: 1000.0,\n",
       " 13: 1000.0,\n",
       " 14: 1000.0,\n",
       " 15: 500.0,\n",
       " 16: 500.0,\n",
       " 17: 500.0,\n",
       " 18: 500.0,\n",
       " 19: 500.0,\n",
       " 20: 500.0,\n",
       " 21: 500.0,\n",
       " 22: 500.0,\n",
       " 23: 620.0,\n",
       " 24: 740.0}"
      ]
     },
     "execution_count": 7,
     "metadata": {},
     "output_type": "execute_result"
    }
   ],
   "source": [
    "pcs_battery.model.soc.get_values()"
   ]
  },
  {
   "cell_type": "code",
   "execution_count": null,
   "id": "5801f77c-99c1-4d10-917f-40e16db161a3",
   "metadata": {},
   "outputs": [],
   "source": [
    "list(pcs_battery.model.inactive_times)"
   ]
  },
  {
   "cell_type": "code",
   "execution_count": null,
   "id": "f56b5eb4-9dcb-41b6-a4bb-a18c82cc19bf",
   "metadata": {},
   "outputs": [],
   "source": [
    "from pyomo.environ import RangeSet"
   ]
  },
  {
   "cell_type": "code",
   "execution_count": 1,
   "id": "19fec523-2149-4a92-8b40-6229e68703d7",
   "metadata": {},
   "outputs": [],
   "source": [
    "from backend.modules.derms import PCSBattery"
   ]
  },
  {
   "cell_type": "code",
   "execution_count": 2,
   "id": "12d82f5e-8d90-47f2-9009-62c36386d58c",
   "metadata": {},
   "outputs": [],
   "source": [
    "load = {\n",
    "    1: 320,\n",
    "    2: 310,\n",
    "    3: 430,\n",
    "    4: 370,\n",
    "    5: 420,\n",
    "    6: 430,\n",
    "    7: 310,\n",
    "    8: 310,\n",
    "    9: 270,\n",
    "    10: 350,\n",
    "    11: 240,\n",
    "    12: 510,\n",
    "    13: 510,\n",
    "    14: 220,\n",
    "    15: 500,\n",
    "    16: 420,\n",
    "    17: 470,\n",
    "    18: 195,\n",
    "    19: 610,\n",
    "    20: 605,\n",
    "    21: 580,\n",
    "    22: 570,\n",
    "    23: 355,\n",
    "    24: 330,\n",
    "}"
   ]
  },
  {
   "cell_type": "code",
   "execution_count": 3,
   "id": "7a329f7c-7343-44d6-a491-a1d7d5cf766d",
   "metadata": {},
   "outputs": [],
   "source": [
    "battery_features = {\n",
    "    \"soc_max\": 1000,\n",
    "    \"soc_min_coef\": 0.1,\n",
    "    \"soc_available\": 1000,\n",
    "    \"p_max\": 500,\n",
    "    \"p_charge_max\": 120,\n",
    "    \"feeder_max\": 600,\n",
    "    \"charging_margin\": 160,\n",
    "    \"first_chargingـtimes_st\": 1,\n",
    "    \"first_chargingـtimes_et\": 10,\n",
    "    \"second_chargingـtimes_st\": 23,\n",
    "    \"second_chargingـtimes_et\": 24,\n",
    "}"
   ]
  },
  {
   "cell_type": "code",
   "execution_count": 5,
   "id": "7fa0a00c-ea58-42cc-ac46-d33e958229d6",
   "metadata": {},
   "outputs": [],
   "source": [
    "\n",
    "programs = [{'date': '2023-02-25',\n",
    "  'activator': False,\n",
    "  'start': 18,\n",
    "  'end': 19,\n",
    "  'id': 2,\n",
    "  'battery_id': 1,\n",
    "  'coef': 1,\n",
    "  'name': 'GA',\n",
    "  'is_global': True}]"
   ]
  },
  {
   "cell_type": "code",
   "execution_count": 6,
   "id": "fe0f1b99-bd2b-4234-9a95-a24ec4c9c5d4",
   "metadata": {},
   "outputs": [
    {
     "ename": "StopIteration",
     "evalue": "",
     "output_type": "error",
     "traceback": [
      "\u001b[0;31m---------------------------------------------------------------------------\u001b[0m",
      "\u001b[0;31mStopIteration\u001b[0m                             Traceback (most recent call last)",
      "Cell \u001b[0;32mIn[6], line 1\u001b[0m\n\u001b[0;32m----> 1\u001b[0m pcs_battery \u001b[38;5;241m=\u001b[39m \u001b[43mPCSBattery\u001b[49m\u001b[43m(\u001b[49m\u001b[43mload\u001b[49m\u001b[38;5;241;43m=\u001b[39;49m\u001b[43mload\u001b[49m\u001b[43m,\u001b[49m\u001b[43m \u001b[49m\u001b[43mbattery_features\u001b[49m\u001b[38;5;241;43m=\u001b[39;49m\u001b[43mbattery_features\u001b[49m\u001b[43m,\u001b[49m\u001b[43m \u001b[49m\u001b[43mprograms\u001b[49m\u001b[38;5;241;43m=\u001b[39;49m\u001b[43mprograms\u001b[49m\u001b[43m)\u001b[49m\n",
      "File \u001b[0;32m~/Projects/derms/backend/modules/derms/pcs_battery.py:147\u001b[0m, in \u001b[0;36mPCSBattery.__init__\u001b[0;34m(self, load, battery_features, programs, **kwargs)\u001b[0m\n\u001b[1;32m    143\u001b[0m \u001b[38;5;28mself\u001b[39m\u001b[38;5;241m.\u001b[39mmodel\u001b[38;5;241m.\u001b[39mconstraint_charge2 \u001b[38;5;241m=\u001b[39m Constraint(\u001b[38;5;28mself\u001b[39m\u001b[38;5;241m.\u001b[39mmodel\u001b[38;5;241m.\u001b[39mtimes, rule\u001b[38;5;241m=\u001b[39m\u001b[38;5;28mself\u001b[39m\u001b[38;5;241m.\u001b[39mconstraint_charge2_rule)\n\u001b[1;32m    144\u001b[0m \u001b[38;5;28mself\u001b[39m\u001b[38;5;241m.\u001b[39mmodel\u001b[38;5;241m.\u001b[39mconstraint_charge3 \u001b[38;5;241m=\u001b[39m Constraint(\u001b[38;5;28mself\u001b[39m\u001b[38;5;241m.\u001b[39mmodel\u001b[38;5;241m.\u001b[39mtimes, rule\u001b[38;5;241m=\u001b[39m\u001b[38;5;28mself\u001b[39m\u001b[38;5;241m.\u001b[39mconstraint_charge3_rule)\n\u001b[1;32m    146\u001b[0m \u001b[38;5;28mself\u001b[39m\u001b[38;5;241m.\u001b[39mmodel\u001b[38;5;241m.\u001b[39mconstraint_tunecharge1 \u001b[38;5;241m=\u001b[39m Constraint(\n\u001b[0;32m--> 147\u001b[0m     \u001b[38;5;28;43mnext\u001b[39;49m\u001b[43m(\u001b[49m\u001b[43mitem\u001b[49m\u001b[43m[\u001b[49m\u001b[38;5;124;43m\"\u001b[39;49m\u001b[38;5;124;43mactive_time\u001b[39;49m\u001b[38;5;124;43m\"\u001b[39;49m\u001b[43m]\u001b[49m\u001b[43m \u001b[49m\u001b[38;5;28;43;01mfor\u001b[39;49;00m\u001b[43m \u001b[49m\u001b[43mitem\u001b[49m\u001b[43m \u001b[49m\u001b[38;5;129;43;01min\u001b[39;49;00m\u001b[43m \u001b[49m\u001b[38;5;28;43mself\u001b[39;49m\u001b[38;5;241;43m.\u001b[39;49m\u001b[43mcost_coef\u001b[49m\u001b[43m \u001b[49m\u001b[38;5;28;43;01mif\u001b[39;49;00m\u001b[43m \u001b[49m\u001b[43mitem\u001b[49m\u001b[43m[\u001b[49m\u001b[38;5;124;43m\"\u001b[39;49m\u001b[38;5;124;43mactive_time\u001b[39;49m\u001b[38;5;124;43m\"\u001b[39;49m\u001b[43m]\u001b[49m\u001b[43m)\u001b[49m,\n\u001b[1;32m    148\u001b[0m     rule\u001b[38;5;241m=\u001b[39m\u001b[38;5;28mself\u001b[39m\u001b[38;5;241m.\u001b[39mconstraint_tunecharge1_rule,\n\u001b[1;32m    149\u001b[0m )\n\u001b[1;32m    151\u001b[0m \u001b[38;5;28mself\u001b[39m\u001b[38;5;241m.\u001b[39mmodel\u001b[38;5;241m.\u001b[39mconstraint_tunecharge2 \u001b[38;5;241m=\u001b[39m Constraint(\n\u001b[1;32m    152\u001b[0m     \u001b[38;5;28mself\u001b[39m\u001b[38;5;241m.\u001b[39mmodel\u001b[38;5;241m.\u001b[39mnon_charging_times, rule\u001b[38;5;241m=\u001b[39m\u001b[38;5;28mself\u001b[39m\u001b[38;5;241m.\u001b[39mconstraint_tunecharge2_rule\n\u001b[1;32m    153\u001b[0m )\n\u001b[1;32m    155\u001b[0m \u001b[38;5;28mself\u001b[39m\u001b[38;5;241m.\u001b[39mmodel\u001b[38;5;241m.\u001b[39mconstraint_tunedischarge1 \u001b[38;5;241m=\u001b[39m Constraint(\n\u001b[1;32m    156\u001b[0m     \u001b[38;5;28mself\u001b[39m\u001b[38;5;241m.\u001b[39mmodel\u001b[38;5;241m.\u001b[39minactive_times, rule\u001b[38;5;241m=\u001b[39m\u001b[38;5;28mself\u001b[39m\u001b[38;5;241m.\u001b[39mconstraint_tunedischarge1_rule\n\u001b[1;32m    157\u001b[0m )\n",
      "\u001b[0;31mStopIteration\u001b[0m: "
     ]
    }
   ],
   "source": [
    "pcs_battery = PCSBattery(load=load, battery_features=battery_features, programs=programs)\n"
   ]
  },
  {
   "cell_type": "code",
   "execution_count": null,
   "id": "d6a679fe-96cf-4cec-b246-8c389755e8de",
   "metadata": {},
   "outputs": [],
   "source": []
  }
 ],
 "metadata": {
  "kernelspec": {
   "display_name": "Python 3 (ipykernel)",
   "language": "python",
   "name": "python3"
  },
  "language_info": {
   "codemirror_mode": {
    "name": "ipython",
    "version": 3
   },
   "file_extension": ".py",
   "mimetype": "text/x-python",
   "name": "python",
   "nbconvert_exporter": "python",
   "pygments_lexer": "ipython3",
   "version": "3.8.10"
  }
 },
 "nbformat": 4,
 "nbformat_minor": 5
}
